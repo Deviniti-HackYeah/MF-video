{
 "cells": [
  {
   "cell_type": "code",
   "execution_count": 1,
   "metadata": {},
   "outputs": [
    {
     "name": "stdout",
     "output_type": "stream",
     "text": [
      "Importing the dtw module. When using in academic works please cite:\n",
      "  T. Giorgino. Computing and Visualizing Dynamic Time Warping Alignments in R: The dtw Package.\n",
      "  J. Stat. Soft., doi:10.18637/jss.v031.i07.\n",
      "\n"
     ]
    }
   ],
   "source": [
    "import openai\n",
    "import numpy as np\n",
    "import sklearn\n",
    "import os\n",
    "import hashlib\n",
    "import ffmpeg\n",
    "import whisper_timestamped as whisper\n",
    "import json\n",
    "import cv2\n",
    "import base64\n",
    "import assemblyai as aai\n",
    "import re"
   ]
  },
  {
   "cell_type": "code",
   "execution_count": 4,
   "metadata": {},
   "outputs": [
    {
     "name": "stdout",
     "output_type": "stream",
     "text": [
      "['/Users/pkiszczak/Downloads/wetransfer_hackyeah-2024-breakwordtraps_2024-09-28_0449/HY_2024_film_08.mp4', '/Users/pkiszczak/Downloads/wetransfer_hackyeah-2024-breakwordtraps_2024-09-28_0449/HY_2024_film_20.mp4', '/Users/pkiszczak/Downloads/wetransfer_hackyeah-2024-breakwordtraps_2024-09-28_0449/HY_2024_film_09.mp4', '/Users/pkiszczak/Downloads/wetransfer_hackyeah-2024-breakwordtraps_2024-09-28_0449/HY_2024_film_19.mp4', '/Users/pkiszczak/Downloads/wetransfer_hackyeah-2024-breakwordtraps_2024-09-28_0449/HY_2024_film_18.mp4', '/Users/pkiszczak/Downloads/wetransfer_hackyeah-2024-breakwordtraps_2024-09-28_0449/HY_2024_film_15.mp4', '/Users/pkiszczak/Downloads/wetransfer_hackyeah-2024-breakwordtraps_2024-09-28_0449/HY_2024_film_01.mp4', '/Users/pkiszczak/Downloads/wetransfer_hackyeah-2024-breakwordtraps_2024-09-28_0449/HY_2024_film_14.mp4', '/Users/pkiszczak/Downloads/wetransfer_hackyeah-2024-breakwordtraps_2024-09-28_0449/HY_2024_film_02.mp4', '/Users/pkiszczak/Downloads/wetransfer_hackyeah-2024-breakwordtraps_2024-09-28_0449/HY_2024_film_16.mp4', '/Users/pkiszczak/Downloads/wetransfer_hackyeah-2024-breakwordtraps_2024-09-28_0449/HY_2024_film_17.mp4', '/Users/pkiszczak/Downloads/wetransfer_hackyeah-2024-breakwordtraps_2024-09-28_0449/HY_2024_film_03.mp4', '/Users/pkiszczak/Downloads/wetransfer_hackyeah-2024-breakwordtraps_2024-09-28_0449/HY_2024_film_07.mp4', '/Users/pkiszczak/Downloads/wetransfer_hackyeah-2024-breakwordtraps_2024-09-28_0449/HY_2024_film_13.mp4', '/Users/pkiszczak/Downloads/wetransfer_hackyeah-2024-breakwordtraps_2024-09-28_0449/HY_2024_film_12.mp4', '/Users/pkiszczak/Downloads/wetransfer_hackyeah-2024-breakwordtraps_2024-09-28_0449/HY_2024_film_06.mp4', '/Users/pkiszczak/Downloads/wetransfer_hackyeah-2024-breakwordtraps_2024-09-28_0449/HY_2024_film_10.mp4', '/Users/pkiszczak/Downloads/wetransfer_hackyeah-2024-breakwordtraps_2024-09-28_0449/HY_2024_film_04.mp4', '/Users/pkiszczak/Downloads/wetransfer_hackyeah-2024-breakwordtraps_2024-09-28_0449/HY_2024_film_05.mp4', '/Users/pkiszczak/Downloads/wetransfer_hackyeah-2024-breakwordtraps_2024-09-28_0449/HY_2024_film_11.mp4']\n"
     ]
    }
   ],
   "source": [
    "# storage for video files\n",
    "video_files = \"/Users/pkiszczak/Downloads/wetransfer_hackyeah-2024-breakwordtraps_2024-09-28_0449\"\n",
    "\n",
    "video_names = os.listdir(video_files)\n",
    "\n",
    "video_paths = [os.path.join(video_files, x) for x in video_names if \".mp4\" in x]\n",
    "print(video_paths)"
   ]
  },
  {
   "cell_type": "code",
   "execution_count": null,
   "metadata": {},
   "outputs": [],
   "source": []
  },
  {
   "cell_type": "code",
   "execution_count": 9,
   "metadata": {},
   "outputs": [
    {
     "name": "stderr",
     "output_type": "stream",
     "text": [
      "/opt/miniconda3/envs/video/lib/python3.12/site-packages/whisper/__init__.py:146: FutureWarning: You are using `torch.load` with `weights_only=False` (the current default value), which uses the default pickle module implicitly. It is possible to construct malicious pickle data which will execute arbitrary code during unpickling (See https://github.com/pytorch/pytorch/blob/main/SECURITY.md#untrusted-models for more details). In a future release, the default value for `weights_only` will be flipped to `True`. This limits the functions that could be executed during unpickling. Arbitrary objects will no longer be allowed to be loaded via this mode unless they are explicitly allowlisted by the user via `torch.serialization.add_safe_globals`. We recommend you start setting `weights_only=True` for any use case where you don't have full control of the loaded file. Please open an issue on GitHub for any issues related to this experimental feature.\n",
      "  checkpoint = torch.load(fp, map_location=device)\n",
      "/opt/miniconda3/envs/video/lib/python3.12/site-packages/whisper/transcribe.py:126: UserWarning: FP16 is not supported on CPU; using FP32 instead\n",
      "  warnings.warn(\"FP16 is not supported on CPU; using FP32 instead\")\n"
     ]
    },
    {
     "name": "stdout",
     "output_type": "stream",
     "text": [
      " W obniżeniu ulega oprocentowanie oferowanych obligacji przy jednoczesnym zachowaniu preferencji dla rynku detalicznego względem rynku hurtowego, dedykowanego inwestorom instytucjonalnym.\n"
     ]
    }
   ],
   "source": [
    "import whisper\n",
    "\n",
    "model = whisper.load_model(\"large\")\n",
    "result = model.transcribe(\"/Users/pkiszczak/Downloads/wetransfer_hackyeah-2024-breakwordtraps_2024-09-28_0449/HY_2024_film_08.mp4\")\n",
    "print(result[\"text\"])"
   ]
  },
  {
   "cell_type": "code",
   "execution_count": 8,
   "metadata": {},
   "outputs": [
    {
     "name": "stdout",
     "output_type": "stream",
     "text": [
      " W tym odcinku\n",
      "No tokens: 6 | Time passed 2.00 | Tokens per sec: 3.00 | No words: 4 | Words per sec: 2.00\n",
      " opracowaliśmy\n",
      "No tokens: 6 | Time passed 2.00 | Tokens per sec: 3.00 | No words: 2 | Words per sec: 1.00\n",
      " wskazywanie\n",
      "No tokens: 7 | Time passed 2.00 | Tokens per sec: 3.50 | No words: 2 | Words per sec: 1.00\n",
      " zgodnie z\n",
      "No tokens: 6 | Time passed 2.00 | Tokens per sec: 3.00 | No words: 3 | Words per sec: 1.50\n",
      " obszarami\n",
      "No tokens: 5 | Time passed 2.00 | Tokens per sec: 2.50 | No words: 2 | Words per sec: 1.00\n",
      " zgodnie z\n",
      "No tokens: 6 | Time passed 2.00 | Tokens per sec: 3.00 | No words: 3 | Words per sec: 1.50\n",
      " obszarem\n",
      "No tokens: 5 | Time passed 2.00 | Tokens per sec: 2.50 | No words: 2 | Words per sec: 1.00\n",
      " zgodnie z\n",
      "No tokens: 6 | Time passed 2.00 | Tokens per sec: 3.00 | No words: 3 | Words per sec: 1.50\n",
      " obszarem\n",
      "No tokens: 5 | Time passed 2.00 | Tokens per sec: 2.50 | No words: 2 | Words per sec: 1.00\n",
      " zgodnie z\n",
      "No tokens: 6 | Time passed 2.00 | Tokens per sec: 3.00 | No words: 3 | Words per sec: 1.50\n",
      " obszarem\n",
      "No tokens: 5 | Time passed 2.00 | Tokens per sec: 2.50 | No words: 2 | Words per sec: 1.00\n",
      " zgodnie z\n",
      "No tokens: 6 | Time passed 2.00 | Tokens per sec: 3.00 | No words: 3 | Words per sec: 1.50\n",
      " obszarem\n",
      "No tokens: 5 | Time passed 2.00 | Tokens per sec: 2.50 | No words: 2 | Words per sec: 1.00\n",
      " zgodnie z\n",
      "No tokens: 6 | Time passed 2.00 | Tokens per sec: 3.00 | No words: 3 | Words per sec: 1.50\n",
      " obszarem\n",
      "No tokens: 5 | Time passed 2.00 | Tokens per sec: 2.50 | No words: 2 | Words per sec: 1.00\n"
     ]
    }
   ],
   "source": [
    "# Tempo mowienia\n",
    "for to in result['segments']:\n",
    "    time_passed = float(to['end']) - float(to['start'])\n",
    "    if time_passed > 10:\n",
    "        time_passed -= 10\n",
    "    no_tokens = len(to['tokens'])\n",
    "    tokens_per_sec = no_tokens / time_passed\n",
    "    no_words = len(to['text'].split(\" \"))\n",
    "    words_per_sec = no_words / time_passed\n",
    "    print(to['text'])\n",
    "    print(f\"No tokens: {no_tokens} | Time passed {time_passed:.2f} | Tokens per sec: {tokens_per_sec:.2f} | No words: {no_words} | Words per sec: {words_per_sec:.2f}\")"
   ]
  },
  {
   "cell_type": "code",
   "execution_count": 7,
   "metadata": {},
   "outputs": [
    {
     "name": "stdout",
     "output_type": "stream",
     "text": [
      "2.0 2.0\n",
      "4.0 4.0\n",
      "6.0 6.0\n",
      "8.0 8.0\n",
      "10.0 10.0\n",
      "12.0 12.0\n",
      "14.0 14.0\n",
      "16.0 16.0\n",
      "18.0 18.0\n",
      "20.0 20.0\n",
      "22.0 22.0\n",
      "24.0 24.0\n",
      "26.0 26.0\n",
      "28.0 28.0\n"
     ]
    }
   ],
   "source": [
    "# Za długie pauzy\n",
    "for idx, r in enumerate(result['segments']):\n",
    "    curr, prev = 0, 0\n",
    "    \n",
    "    if idx > 0:\n",
    "        try:\n",
    "            curr = float(r['start'])\n",
    "            prev = float(result['segments'][idx-1]['end'])\n",
    "            print(curr, prev)\n",
    "            \n",
    "        except Exception as e:\n",
    "            print(e)"
   ]
  },
  {
   "cell_type": "code",
   "execution_count": null,
   "metadata": {},
   "outputs": [],
   "source": []
  }
 ],
 "metadata": {
  "kernelspec": {
   "display_name": "video",
   "language": "python",
   "name": "python3"
  },
  "language_info": {
   "codemirror_mode": {
    "name": "ipython",
    "version": 3
   },
   "file_extension": ".py",
   "mimetype": "text/x-python",
   "name": "python",
   "nbconvert_exporter": "python",
   "pygments_lexer": "ipython3",
   "version": "3.12.5"
  }
 },
 "nbformat": 4,
 "nbformat_minor": 2
}
